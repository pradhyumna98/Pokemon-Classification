{
  "nbformat": 4,
  "nbformat_minor": 0,
  "metadata": {
    "colab": {
      "name": "Pokemon Classification.ipynb",
      "version": "0.3.2",
      "provenance": []
    },
    "kernelspec": {
      "name": "python3",
      "display_name": "Python 3"
    },
    "accelerator": "GPU"
  },
  "cells": [
    {
      "cell_type": "code",
      "metadata": {
        "id": "p9tHwV4wDh3g",
        "colab_type": "code",
        "outputId": "f9ecfd95-0cb5-4697-b09f-5ed2079995f6",
        "colab": {
          "base_uri": "https://localhost:8080/",
          "height": 153
        }
      },
      "source": [
        "! kaggle"
      ],
      "execution_count": 0,
      "outputs": [
        {
          "output_type": "stream",
          "text": [
            "Traceback (most recent call last):\n",
            "  File \"/usr/local/bin/kaggle\", line 6, in <module>\n",
            "    from kaggle.cli import main\n",
            "  File \"/usr/local/lib/python2.7/dist-packages/kaggle/__init__.py\", line 23, in <module>\n",
            "    api.authenticate()\n",
            "  File \"/usr/local/lib/python2.7/dist-packages/kaggle/api/kaggle_api_extended.py\", line 146, in authenticate\n",
            "    self.config_file, self.config_dir))\n",
            "IOError: Could not find kaggle.json. Make sure it's located in /root/.kaggle. Or use the environment method.\n"
          ],
          "name": "stdout"
        }
      ]
    },
    {
      "cell_type": "code",
      "metadata": {
        "id": "Yz8Zy549DxDX",
        "colab_type": "code",
        "colab": {}
      },
      "source": [
        "! cp kaggle.json /root/.kaggle/kaggle.json"
      ],
      "execution_count": 0,
      "outputs": []
    },
    {
      "cell_type": "code",
      "metadata": {
        "id": "f29sJUXzD5zz",
        "colab_type": "code",
        "colab": {}
      },
      "source": [
        "! chmod 600 /root/.kaggle/kaggle.json"
      ],
      "execution_count": 0,
      "outputs": []
    },
    {
      "cell_type": "code",
      "metadata": {
        "id": "zfD0UcBSD7yc",
        "colab_type": "code",
        "outputId": "9441121f-09f6-4afa-aa42-2c8f665035da",
        "colab": {
          "base_uri": "https://localhost:8080/",
          "height": 68
        }
      },
      "source": [
        "! kaggle datasets download thedagger/pokemon-generation-one"
      ],
      "execution_count": 0,
      "outputs": [
        {
          "output_type": "stream",
          "text": [
            "Downloading pokemon-generation-one.zip to /content\n",
            "100% 1.08G/1.08G [00:09<00:00, 136MB/s]\n",
            "100% 1.08G/1.08G [00:09<00:00, 118MB/s]\n"
          ],
          "name": "stdout"
        }
      ]
    },
    {
      "cell_type": "code",
      "metadata": {
        "id": "UTtU0rz-EvBz",
        "colab_type": "code",
        "colab": {}
      },
      "source": [
        "! unzip -qq pokemon-generation-one.zip"
      ],
      "execution_count": 0,
      "outputs": []
    },
    {
      "cell_type": "code",
      "metadata": {
        "id": "a5ayQicmFA6j",
        "colab_type": "code",
        "colab": {}
      },
      "source": [
        "import pandas as pd\n",
        "import numpy as np\n",
        "import os\n",
        "import keras\n",
        "import matplotlib.pyplot as plt\n",
        "from keras.layers import Dense,GlobalAveragePooling2D , Dropout\n",
        "from keras.applications import ResNet50\n",
        "from keras.preprocessing import image\n",
        "from keras.applications.mobilenet import preprocess_input\n",
        "from keras.preprocessing.image import ImageDataGenerator\n",
        "from keras.models import Model\n",
        "from keras.optimizers import Adam"
      ],
      "execution_count": 0,
      "outputs": []
    },
    {
      "cell_type": "code",
      "metadata": {
        "id": "ltlfBbT2FV_E",
        "colab_type": "code",
        "outputId": "7b5a15e6-7ea9-4c6f-c0e3-2f398f4aea83",
        "colab": {
          "base_uri": "https://localhost:8080/",
          "height": 71
        }
      },
      "source": [
        "base_model=ResNet50(weights='imagenet',include_top=False) \n",
        "x=base_model.output\n",
        "x=GlobalAveragePooling2D()(x)\n",
        "x=Dense(1024,activation='relu')(x)\n",
        "x=Dense(1024,activation='relu')(x) \n",
        "x=Dense(512,activation='relu')(x) \n",
        "x = Dense(256 , activation='relu')(x)\n",
        "preds=Dense(151,activation='softmax')(x) "
      ],
      "execution_count": 0,
      "outputs": [
        {
          "output_type": "stream",
          "text": [
            "/usr/local/lib/python3.6/dist-packages/keras_applications/resnet50.py:265: UserWarning: The output shape of `ResNet50(include_top=False)` has been changed since Keras 2.2.0.\n",
            "  warnings.warn('The output shape of `ResNet50(include_top=False)` '\n"
          ],
          "name": "stderr"
        }
      ]
    },
    {
      "cell_type": "code",
      "metadata": {
        "id": "xYnbQBO0Fc0j",
        "colab_type": "code",
        "colab": {}
      },
      "source": [
        "model=Model(inputs=base_model.input,outputs=preds)"
      ],
      "execution_count": 0,
      "outputs": []
    },
    {
      "cell_type": "code",
      "metadata": {
        "id": "eefTEFlgFjM0",
        "colab_type": "code",
        "colab": {}
      },
      "source": [
        "for layer in model.layers[:175]:\n",
        "    layer.trainable=False\n",
        "for layer in model.layers[175:]:\n",
        "    layer.trainable=True"
      ],
      "execution_count": 0,
      "outputs": []
    },
    {
      "cell_type": "code",
      "metadata": {
        "id": "HKf6uH1vFlnO",
        "colab_type": "code",
        "outputId": "f1e3d2d9-36fe-4457-8bd2-db8d8272bf78",
        "colab": {
          "base_uri": "https://localhost:8080/",
          "height": 34
        }
      },
      "source": [
        "train_datagen=ImageDataGenerator(preprocessing_function=preprocess_input)\n",
        "\n",
        "train_generator=train_datagen.flow_from_directory('dataset/',\n",
        "                                                 target_size=(224,224),\n",
        "                                                 color_mode='rgb',\n",
        "                                                 batch_size=32,\n",
        "                                                 class_mode='categorical',\n",
        "                                                 subset = 'training',\n",
        "                                                 shuffle=True)"
      ],
      "execution_count": 0,
      "outputs": [
        {
          "output_type": "stream",
          "text": [
            "Found 10657 images belonging to 151 classes.\n"
          ],
          "name": "stdout"
        }
      ]
    },
    {
      "cell_type": "code",
      "metadata": {
        "id": "MuhNzYUoFqs8",
        "colab_type": "code",
        "colab": {}
      },
      "source": [
        "model.compile(optimizer='Adam',loss='categorical_crossentropy',metrics=['accuracy'])"
      ],
      "execution_count": 0,
      "outputs": []
    },
    {
      "cell_type": "code",
      "metadata": {
        "id": "XjETte_AFynk",
        "colab_type": "code",
        "outputId": "830d299c-cebe-4c80-faa4-d7bf8d808adc",
        "colab": {
          "base_uri": "https://localhost:8080/",
          "height": 428
        }
      },
      "source": [
        "step_size_train=train_generator.n//train_generator.batch_size\n",
        "model.fit_generator(generator=train_generator,\n",
        "                   steps_per_epoch=step_size_train,\n",
        "                   epochs=10)"
      ],
      "execution_count": 0,
      "outputs": [
        {
          "output_type": "stream",
          "text": [
            "Epoch 1/10\n",
            " 92/333 [=======>......................] - ETA: 2:02 - loss: 4.7414 - acc: 0.0846"
          ],
          "name": "stdout"
        },
        {
          "output_type": "stream",
          "text": [
            "/usr/local/lib/python3.6/dist-packages/PIL/Image.py:914: UserWarning: Palette images with Transparency   expressed in bytes should be converted to RGBA images\n",
            "  'to RGBA images')\n"
          ],
          "name": "stderr"
        },
        {
          "output_type": "stream",
          "text": [
            "333/333 [==============================] - 149s 447ms/step - loss: 3.8930 - acc: 0.1811\n",
            "Epoch 2/10\n",
            "333/333 [==============================] - 142s 427ms/step - loss: 2.4021 - acc: 0.4017\n",
            "Epoch 3/10\n",
            "333/333 [==============================] - 142s 427ms/step - loss: 1.7785 - acc: 0.5304\n",
            "Epoch 4/10\n",
            "333/333 [==============================] - 143s 429ms/step - loss: 1.4116 - acc: 0.6128\n",
            "Epoch 5/10\n",
            "333/333 [==============================] - 142s 426ms/step - loss: 1.1719 - acc: 0.6724\n",
            "Epoch 6/10\n",
            "333/333 [==============================] - 142s 427ms/step - loss: 1.0010 - acc: 0.7104\n",
            "Epoch 7/10\n",
            "333/333 [==============================] - 142s 427ms/step - loss: 0.8673 - acc: 0.7461\n",
            "Epoch 8/10\n",
            "333/333 [==============================] - 142s 425ms/step - loss: 0.7530 - acc: 0.7813\n",
            "Epoch 9/10\n",
            "333/333 [==============================] - 142s 425ms/step - loss: 0.6563 - acc: 0.8016\n",
            "Epoch 10/10\n",
            "333/333 [==============================] - 142s 428ms/step - loss: 0.5911 - acc: 0.8232\n"
          ],
          "name": "stdout"
        },
        {
          "output_type": "execute_result",
          "data": {
            "text/plain": [
              "<keras.callbacks.History at 0x7f1909a47320>"
            ]
          },
          "metadata": {
            "tags": []
          },
          "execution_count": 102
        }
      ]
    },
    {
      "cell_type": "code",
      "metadata": {
        "id": "6nqQoFr-L6ZF",
        "colab_type": "code",
        "colab": {}
      },
      "source": [
        ""
      ],
      "execution_count": 0,
      "outputs": []
    }
  ]
}